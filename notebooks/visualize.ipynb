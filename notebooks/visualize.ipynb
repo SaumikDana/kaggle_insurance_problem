{
 "cells": [
  {
   "cell_type": "code",
   "execution_count": null,
   "metadata": {},
   "outputs": [],
   "source": [
    "import pandas as pd\n",
    "import numpy as np\n",
    "import os\n",
    "import setup_path\n",
    "from src.visualize import visualize\n",
    "from src.preprocess import preprocess_data\n",
    "\n",
    "\n",
    "# Load the dataset\n",
    "script_directory = os.getcwd()  # Gets the current working directory\n",
    "data_directory = os.path.join(script_directory, '..', 'data')\n",
    "\n",
    "train = pd.read_csv(os.path.join(data_directory, f\"train.csv\"))\n",
    "\n",
    "# Drop the 'id' column as it is just an identifier\n",
    "train.drop('id', axis=1, inplace=True)\n",
    "\n",
    "# Drop the Policy Start Date\n",
    "train.drop('Policy Start Date', axis=1, inplace=True)\n",
    "\n",
    "# Replace infinite values with NaN globally\n",
    "train.replace([float('inf'), float('-inf')], np.nan, inplace=True)\n",
    "\n",
    "# Drop rows with missing values\n",
    "train.dropna(inplace=True)\n",
    "\n",
    "visualize(train)"
   ]
  },
  {
   "cell_type": "code",
   "execution_count": null,
   "metadata": {},
   "outputs": [],
   "source": [
    "# Load the dataset\n",
    "train = pd.read_csv(os.path.join(data_directory, f\"train.csv\"))\n",
    "df, _ = preprocess_data(train)\n",
    "\n",
    "visualize(df)"
   ]
  }
 ],
 "metadata": {
  "kernelspec": {
   "display_name": "Python 3",
   "language": "python",
   "name": "python3"
  },
  "language_info": {
   "codemirror_mode": {
    "name": "ipython",
    "version": 3
   },
   "file_extension": ".py",
   "mimetype": "text/x-python",
   "name": "python",
   "nbconvert_exporter": "python",
   "pygments_lexer": "ipython3",
   "version": "3.12.9"
  }
 },
 "nbformat": 4,
 "nbformat_minor": 2
}
